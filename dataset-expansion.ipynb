{
 "cells": [
  {
   "cell_type": "markdown",
   "id": "7a9a6923",
   "metadata": {},
   "source": [
    "## Helper script for preparing the dataset \n",
    "This helper script imports and merges the data from multiple datasets. \n",
    "\n",
    "These datasets are:\n",
    "1. dataset for multiple types of faults: https://www.kaggle.com/datasets/pythonafroz/solar-panel-images\n",
    "2. dataset for clean vs dusty classification: https://www.kaggle.com/datasets/hemanthsai7/solar-panel-dust-detection \n",
    "3. dataset for clean vs dusty classification: https://www.kaggle.com/datasets/safwanshamsir99/solar-photovoltaics-panell-for-dust-dectection\n",
    "\n",
    "Note: From dataset #1, the \"snow covered\" images were deleted because they were considered not useful for this application."
   ]
  },
  {
   "cell_type": "code",
   "execution_count": 3,
   "id": "b1bfe324",
   "metadata": {},
   "outputs": [],
   "source": [
    "# Libraries\n",
    "import opendatasets as od\n",
    "from pathlib import Path\n",
    "import shutil\n",
    "import uuid"
   ]
  },
  {
   "cell_type": "markdown",
   "id": "fc21fc76",
   "metadata": {},
   "source": [
    "### Datasets download"
   ]
  },
  {
   "cell_type": "code",
   "execution_count": null,
   "id": "22d0f74d",
   "metadata": {},
   "outputs": [
    {
     "name": "stdout",
     "output_type": "stream",
     "text": [
      "Skipping, found downloaded files in \"./solar-panel-images\" (use force=True to force download)\n"
     ]
    }
   ],
   "source": [
    "# Dataset 1.\n",
    "\n",
    "od.download('https://www.kaggle.com/datasets/pythonafroz/solar-panel-images') # use force=True for forcing the download\n",
    "data_dir = './solar-panel-images/Faulty_solar_panel'"
   ]
  },
  {
   "cell_type": "code",
   "execution_count": 5,
   "id": "e091b2d7",
   "metadata": {},
   "outputs": [
    {
     "name": "stdout",
     "output_type": "stream",
     "text": [
      "Dataset URL: https://www.kaggle.com/datasets/hemanthsai7/solar-panel-dust-detection\n",
      "Downloading solar-panel-dust-detection.zip to ./solar-panel-dust-detection\n"
     ]
    },
    {
     "name": "stderr",
     "output_type": "stream",
     "text": [
      "100%|██████████| 1.18G/1.18G [00:12<00:00, 99.4MB/s]\n"
     ]
    },
    {
     "name": "stdout",
     "output_type": "stream",
     "text": [
      "\n"
     ]
    }
   ],
   "source": [
    "# Dataset 2.\n",
    "\n",
    "od.download('https://www.kaggle.com/datasets/hemanthsai7/solar-panel-dust-detection')\n",
    "data_dir='./second-dataset'"
   ]
  },
  {
   "cell_type": "code",
   "execution_count": 6,
   "id": "8f33bd7d",
   "metadata": {},
   "outputs": [
    {
     "name": "stdout",
     "output_type": "stream",
     "text": [
      "Dataset URL: https://www.kaggle.com/datasets/safwanshamsir99/solar-photovoltaics-panell-for-dust-dectection\n",
      "Downloading solar-photovoltaics-panell-for-dust-dectection.zip to ./solar-photovoltaics-panell-for-dust-dectection\n"
     ]
    },
    {
     "name": "stderr",
     "output_type": "stream",
     "text": [
      "100%|██████████| 1.97G/1.97G [00:04<00:00, 501MB/s] \n"
     ]
    },
    {
     "name": "stdout",
     "output_type": "stream",
     "text": [
      "\n"
     ]
    }
   ],
   "source": [
    "# Dataset 3.\n",
    "\n",
    "od.download('https://www.kaggle.com/datasets/safwanshamsir99/solar-photovoltaics-panell-for-dust-dectection')\n",
    "data_dir='./third-dataset'"
   ]
  },
  {
   "cell_type": "code",
   "execution_count": null,
   "id": "75d902a9",
   "metadata": {},
   "outputs": [],
   "source": [
    "# Point to where each dataset lives on disk\n",
    "dataset1_root = Path('solar-panel-images/Faulty_solar_panel')\n",
    "dataset2_root = Path('solar-panel-dust/solar-panel-dust-detection')\n",
    "dataset3_root = Path('solar-photovoltaics/solar-photovoltaics-panell-for-dust-dectection')"
   ]
  }
 ],
 "metadata": {
  "kernelspec": {
   "display_name": "solar_tf",
   "language": "python",
   "name": "python3"
  },
  "language_info": {
   "codemirror_mode": {
    "name": "ipython",
    "version": 3
   },
   "file_extension": ".py",
   "mimetype": "text/x-python",
   "name": "python",
   "nbconvert_exporter": "python",
   "pygments_lexer": "ipython3",
   "version": "3.10.16"
  }
 },
 "nbformat": 4,
 "nbformat_minor": 5
}
